{
 "cells": [
  {
   "cell_type": "markdown",
   "id": "c596389b-c924-4285-a6ce-e11c922111b7",
   "metadata": {},
   "source": [
    "# Пайплайн проведения АБ тестов:"
   ]
  },
  {
   "cell_type": "markdown",
   "id": "7cff6472-ccc6-400b-9006-b06dd3666ba8",
   "metadata": {},
   "source": [
    "1. Выставление гипотезы и метрик\n",
    "\n",
    "2. Дизайн эксперимента: MDE, min_sample_size, срок эксперимента."
   ]
  },
  {
   "cell_type": "markdown",
   "id": "c1b1e5f0-5ee2-41ce-8072-e94d3471dcd7",
   "metadata": {},
   "source": [
    "3. Тестируем дизайн: 1000 раз делим исторические данные на выборки и проводим синтетические АА и АБ тесты чтобы выбрать лучший стат. критерий.\n",
    "\n",
    "***АА*** - тесты контролируют ошибку 1 рода (альфа). Кумулятивная гистограмма p-value должна быть близка к диагонали 0:0 - 1:1 (есть теорема). \n",
    "              Также смотрим чтоб из 1000 тестов показали стат. значимое различие не более ***альфа***.\n",
    "   \n",
    "   \n",
    "***АБ*** - тесты контролируют ошибку 2 рода (бета). Кумулятивная гистограмма p-value должна быть выпуклой (больше вероятность малых p-value).\n",
    "              Также смотрим чтоб из 1000 тестов не показали стат. значимое различие не более ***бета***."
   ]
  },
  {
   "cell_type": "markdown",
   "id": "b1c8a901-8c94-4031-bb6e-b59772179d49",
   "metadata": {
    "tags": []
   },
   "source": [
    "4. Проведение теста.\n",
    "5. Обсчет результатов."
   ]
  },
  {
   "cell_type": "code",
   "execution_count": null,
   "id": "a44fbcd5-4ebb-4c8d-a6a3-38836c80da0c",
   "metadata": {},
   "outputs": [],
   "source": []
  }
 ],
 "metadata": {
  "kernelspec": {
   "display_name": "Python 3 (ipykernel)",
   "language": "python",
   "name": "python3"
  },
  "language_info": {
   "codemirror_mode": {
    "name": "ipython",
    "version": 3
   },
   "file_extension": ".py",
   "mimetype": "text/x-python",
   "name": "python",
   "nbconvert_exporter": "python",
   "pygments_lexer": "ipython3",
   "version": "3.11.5"
  }
 },
 "nbformat": 4,
 "nbformat_minor": 5
}
