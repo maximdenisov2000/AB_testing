{
 "cells": [
  {
   "cell_type": "code",
   "execution_count": 1,
   "id": "67a6de60-796d-4e9d-9ef0-6b87b6e66f74",
   "metadata": {
    "tags": []
   },
   "outputs": [],
   "source": [
    "import numpy as np\n",
    "import pandas as pd\n",
    "import uuid\n",
    "from scipy import stats"
   ]
  },
  {
   "cell_type": "code",
   "execution_count": 2,
   "id": "3055b455-48fb-4a9e-9d42-5dcc5f3e3c53",
   "metadata": {
    "tags": []
   },
   "outputs": [
    {
     "data": {
      "text/html": [
       "<div>\n",
       "<style scoped>\n",
       "    .dataframe tbody tr th:only-of-type {\n",
       "        vertical-align: middle;\n",
       "    }\n",
       "\n",
       "    .dataframe tbody tr th {\n",
       "        vertical-align: top;\n",
       "    }\n",
       "\n",
       "    .dataframe thead th {\n",
       "        text-align: right;\n",
       "    }\n",
       "</style>\n",
       "<table border=\"1\" class=\"dataframe\">\n",
       "  <thead>\n",
       "    <tr style=\"text-align: right;\">\n",
       "      <th></th>\n",
       "      <th>user_id</th>\n",
       "      <th>strata</th>\n",
       "      <th>metric</th>\n",
       "    </tr>\n",
       "  </thead>\n",
       "  <tbody>\n",
       "    <tr>\n",
       "      <th>76154</th>\n",
       "      <td>42e9d942-cd49-4ad6-be99-8b228344d106</td>\n",
       "      <td>female</td>\n",
       "      <td>17.172661</td>\n",
       "    </tr>\n",
       "    <tr>\n",
       "      <th>41708</th>\n",
       "      <td>2a95210d-0539-4d39-b1ae-c0f27af66cc2</td>\n",
       "      <td>female</td>\n",
       "      <td>-5.444979</td>\n",
       "    </tr>\n",
       "    <tr>\n",
       "      <th>99838</th>\n",
       "      <td>3e2b113d-7f95-4f2b-8981-9a42b80650ec</td>\n",
       "      <td>female</td>\n",
       "      <td>41.227906</td>\n",
       "    </tr>\n",
       "    <tr>\n",
       "      <th>99341</th>\n",
       "      <td>2c2ed902-c23e-47d8-8032-f893e96718cc</td>\n",
       "      <td>female</td>\n",
       "      <td>-27.040493</td>\n",
       "    </tr>\n",
       "  </tbody>\n",
       "</table>\n",
       "</div>"
      ],
      "text/plain": [
       "                                    user_id  strata     metric\n",
       "76154  42e9d942-cd49-4ad6-be99-8b228344d106  female  17.172661\n",
       "41708  2a95210d-0539-4d39-b1ae-c0f27af66cc2  female  -5.444979\n",
       "99838  3e2b113d-7f95-4f2b-8981-9a42b80650ec  female  41.227906\n",
       "99341  2c2ed902-c23e-47d8-8032-f893e96718cc  female -27.040493"
      ]
     },
     "execution_count": 2,
     "metadata": {},
     "output_type": "execute_result"
    }
   ],
   "source": [
    "# пример датафрейма:\n",
    "males = pd.DataFrame({'strata':['male' for i in range(20000)], 'metric':np.random.normal(10, 20, 20000)}) # примеры страт\n",
    "females = pd.DataFrame({'strata':['female' for i in range(100000)], 'metric':np.random.normal(15, 30, 100000)}) # примеры страт\n",
    "data = pd.concat([males, females])\n",
    "data['user_id'] = [str(uuid.uuid4()) for i in range(len(data))]\n",
    "data = data[['user_id', 'strata', 'metric']]\n",
    "data.sample(4)"
   ]
  },
  {
   "cell_type": "code",
   "execution_count": 3,
   "id": "3c42a206-d74b-4880-be90-f00bbfb0c959",
   "metadata": {
    "tags": []
   },
   "outputs": [
    {
     "data": {
      "text/plain": [
       "{'female': 0.8333333333333334, 'male': 0.16666666666666666}"
      ]
     },
     "execution_count": 3,
     "metadata": {},
     "output_type": "execute_result"
    }
   ],
   "source": [
    "# веса (доли в ген. совокупности):\n",
    "weights = data['strata'].value_counts(normalize=True).to_dict()\n",
    "weights"
   ]
  },
  {
   "cell_type": "markdown",
   "id": "b052a9cd-160d-4c47-878e-6bb89c0d3ac0",
   "metadata": {},
   "source": [
    "## Стратифицированное семплирование:"
   ]
  },
  {
   "cell_type": "markdown",
   "id": "d463d760-1086-4a4d-9973-9b8abfef3437",
   "metadata": {
    "tags": []
   },
   "source": [
    "**Стратифицированное семплирование** - процесс составления выборки, при котором доли\n",
    "страт выборки равны долям страт в генеральной совокупности."
   ]
  },
  {
   "cell_type": "markdown",
   "id": "5ed19ff6-394d-461f-8bb5-7e157e21b4bb",
   "metadata": {},
   "source": [
    "Например, у нас есть общая база клиентов (ген. совокупность) с 6000 пользователями. \n",
    "Из них 3000 клиентов мужского пола (cтрата 1), 2000 клиентов женского пола (страта 2) и 1000 без информации о поле (страта 3). \n",
    "\n",
    "То есть страта 1 имеет долю ***0.5***, страта 2 имеет долю ***0.33***, cтрата 3 имеет долю ***0.167***\n",
    "\n",
    "Мы хотим  запустить тест на 300 пользователях. Чтобы сформировать выборку (контроль или тест), надо случайно выбрать:\n",
    "\n",
    "300×0.5 = 150 клиентов из страты 1\n",
    "\n",
    "300×0.33 = 100 клиентов из страты 2\n",
    "\n",
    "300×0.167 = 50 клиентов из страты 3\n",
    "\n",
    "И так составить 2 выборки: контроль и тест"
   ]
  },
  {
   "cell_type": "markdown",
   "id": "96f4a66f-47d2-454e-89ff-71835bab40ed",
   "metadata": {},
   "source": [
    "Стратификация помогает снизить дисперсию и повысить чувствительность тестов, их мощность.\n",
    "\n",
    "Это происходит из-за снижения межгрупповой дисперсии по формуле:\n",
    "\n",
    "$$\n",
    "\\sigma^2 = \\sum_{k} w_k \\sigma_k^2 + \\sum_{k} w_k (\\mu_k - \\mu)^2\n",
    "$$\n"
   ]
  },
  {
   "cell_type": "code",
   "execution_count": null,
   "id": "d6c9dd92-0cb3-4445-9399-3bf66e3b6f68",
   "metadata": {},
   "outputs": [],
   "source": []
  },
  {
   "cell_type": "code",
   "execution_count": 4,
   "id": "f7b10696-fc20-401e-896a-2542c58db1e5",
   "metadata": {
    "tags": []
   },
   "outputs": [],
   "source": [
    "sample_size = 1000 # размер выборки (теста и контроля)\n",
    "\n",
    "dfs_control = []\n",
    "dfs_test = []\n",
    "\n",
    "for strata, weight in weights.items():\n",
    "    strata_data = data[data['strata']==strata] # данные страты\n",
    "    users_control, users_test = np.random.choice(strata_data['user_id'], (2, int(weight*sample_size)), False)\n",
    "    df_control, df_test = data[data['user_id'].isin(users_control)], data[data['user_id'].isin(users_test)]\n",
    "    dfs_control.append(df_control)\n",
    "    dfs_test.append(df_test)\n",
    "    \n",
    "data_control = pd.concat(dfs_control)\n",
    "data_test = pd.concat(dfs_test)"
   ]
  },
  {
   "cell_type": "code",
   "execution_count": 5,
   "id": "9cad814a-226d-480f-b9f3-30490783faa8",
   "metadata": {
    "tags": []
   },
   "outputs": [
    {
     "name": "stdout",
     "output_type": "stream",
     "text": [
      "КОНТРОЛЬ:\n",
      "\n",
      "strata\n",
      "female    0.833834\n",
      "male      0.166166\n",
      "Name: proportion, dtype: float64\n",
      "\n",
      "\n",
      "\n",
      "ТЕСТ:\n",
      "\n",
      "strata\n",
      "female    0.833834\n",
      "male      0.166166\n",
      "Name: proportion, dtype: float64\n"
     ]
    }
   ],
   "source": [
    "# видим что в контроле и тесте сохраняются доли страт как в ген. совокупности:\n",
    "\n",
    "print('КОНТРОЛЬ:\\n')\n",
    "print(data_control['strata'].value_counts(normalize=True))\n",
    "print('\\n\\n')\n",
    "print('ТЕСТ:\\n')\n",
    "print(data_test['strata'].value_counts(normalize=True))"
   ]
  },
  {
   "cell_type": "markdown",
   "id": "74813675-5f16-49f7-be5f-194698d9da72",
   "metadata": {},
   "source": [
    "## Проведение стратифицированного теста Стюдента:"
   ]
  },
  {
   "cell_type": "code",
   "execution_count": 6,
   "id": "57398b83-520c-4f52-aff6-101832c71150",
   "metadata": {
    "tags": []
   },
   "outputs": [],
   "source": [
    "# ф-ция расчета стратифицированного среднего:\n",
    "\n",
    "def stratified_mean(data: pd.DataFrame, weights: dict) -> float:\n",
    "    start_means = data.groupby(['strata']).agg({\"metric\":'mean'}).rename(columns={'metric':'avg_metric'})\n",
    "    weights = pd.Series(weights, name='weight')\n",
    "    df_means_weights = start_means.join(weights) # страта vs. avg_metric vs. weight\n",
    "\n",
    "    # если в данных df не было каких-то страт, то часть weights затрётся и сумма весов будет меньше 1:\n",
    "    df_means_weights['weight'] = df_means_weights['weight'] / df_means_weights['weight'].sum()\n",
    "\n",
    "    startified_mean = (df_means_weights['avg_metric'] * df_means_weights['weight']).sum() # считаем страт. среднее\n",
    "    return startified_mean"
   ]
  },
  {
   "cell_type": "code",
   "execution_count": 7,
   "id": "d230ab77-21c2-4c4f-97bf-a0957fd828db",
   "metadata": {
    "tags": []
   },
   "outputs": [],
   "source": [
    "# ф-ция расчета стратифицированной дисперсии:\n",
    "\n",
    "def stratified_varience(data: pd.DataFrame, weights: dict) -> float:\n",
    "    strat_vars = data.groupby('strata')['metric'].var().to_frame().rename(columns={'metric':'varience'})\n",
    "    weights = pd.Series(weights, name='weight')\n",
    "    df_vars_weights = strat_vars.join(weights) # страта vs. varience vs. weight\n",
    "\n",
    "    # если в данных df не было каких-то страт, то часть weights затрётся и сумма весов будет меньше 1:\n",
    "    df_vars_weights['weight'] = df_vars_weights['weight'] / df_vars_weights['weight'].sum()\n",
    "\n",
    "    var_strat = (df_vars_weights['weight'] * df_vars_weights['varience']).sum() # считаем страт. дисперсию\n",
    "    return var_strat"
   ]
  },
  {
   "cell_type": "code",
   "execution_count": 10,
   "id": "14489815-70bc-436f-9421-6530fa65f18f",
   "metadata": {
    "tags": []
   },
   "outputs": [],
   "source": [
    "# ф-ция получения p-value стратифицированного теста Стюдента:\n",
    "\n",
    "def stratified_ttest(df_control: pd.DataFrame, df_test: pd.DataFrame, weights: dict) -> float:\n",
    "    mean_strat_control = stratified_mean(df_control, weights)\n",
    "    mean_strat_test    = stratified_mean(df_test, weights)\n",
    "    var_strat_control = stratified_varience(df_control, weights)\n",
    "    var_strat_test   = stratified_varience(df_test, weights)\n",
    "    delta_mean_strat = mean_strat_test - mean_strat_control\n",
    "    std_mean_strat = (var_strat_test / len(df_test) + var_strat_control / len(df_control)) ** 0.5\n",
    "    t = delta_mean_strat / std_mean_strat\n",
    "    pvalue = (1 - stats.norm.cdf(np.abs(t))) * 2\n",
    "    return pvalue"
   ]
  },
  {
   "cell_type": "code",
   "execution_count": 11,
   "id": "076b01ff-abdd-46ac-9885-6e5197c415d5",
   "metadata": {
    "tags": []
   },
   "outputs": [
    {
     "data": {
      "text/plain": [
       "0.4391057539760479"
      ]
     },
     "execution_count": 11,
     "metadata": {},
     "output_type": "execute_result"
    }
   ],
   "source": [
    "# пример:\n",
    "stratified_ttest(data_control, data_test, weights)"
   ]
  },
  {
   "cell_type": "markdown",
   "id": "9dc66387-4fe0-45c8-afc2-6faa1d29b4e7",
   "metadata": {},
   "source": [
    "## Пост-стратификация:"
   ]
  },
  {
   "cell_type": "markdown",
   "id": "764e836a-a6fd-47d2-9544-202a25634ba2",
   "metadata": {},
   "source": [
    "Пост-стратификация - это метод анализа результатов АБ-теста, который был сплитован обычным случайным сплитованием.\n",
    "\n",
    "Его результат аналогичен применению стратификации.\n",
    "\n",
    "Его применяют если нет возомжности создать сплитовалку трафика по стратам."
   ]
  },
  {
   "cell_type": "code",
   "execution_count": 12,
   "id": "29e494ef-c8ed-45c7-889d-f03a3a847c2d",
   "metadata": {
    "tags": []
   },
   "outputs": [],
   "source": [
    "# пример выборок (контроль и тест), полученные случайным сплитованием:\n",
    "\n",
    "sample_size = 100\n",
    "users_control, users_test = np.random.choice(data['user_id'], (2, sample_size), False) # рандомное сплитование\n",
    "data_control = data[data['user_id'].isin(users_control)]\n",
    "data_test = data[data['user_id'].isin(users_test)]"
   ]
  },
  {
   "cell_type": "code",
   "execution_count": 13,
   "id": "eb9ad202-1bfc-46fa-8426-fa329bc4f630",
   "metadata": {
    "tags": []
   },
   "outputs": [
    {
     "data": {
      "text/plain": [
       "0.22451515618302675"
      ]
     },
     "execution_count": 13,
     "metadata": {},
     "output_type": "execute_result"
    }
   ],
   "source": [
    "# делаем пост-стратификацию:\n",
    "\n",
    "stratified_ttest(data_control, data_test, weights) # просто применяем ту же ф-цию с весами"
   ]
  },
  {
   "cell_type": "markdown",
   "id": "cf6d7cb0-531b-4393-9adb-d6dd50aed2e2",
   "metadata": {},
   "source": [
    "Возникает резонный вопрос - а зачем тогда проводить стартификацию если пост-стратификация дает такой же результат?\n",
    "\n",
    "Стратификация помогает снизить sample_size в формуле MDE за счет уменьшения дисперсии."
   ]
  }
 ],
 "metadata": {
  "kernelspec": {
   "display_name": "Python 3 (ipykernel)",
   "language": "python",
   "name": "python3"
  },
  "language_info": {
   "codemirror_mode": {
    "name": "ipython",
    "version": 3
   },
   "file_extension": ".py",
   "mimetype": "text/x-python",
   "name": "python",
   "nbconvert_exporter": "python",
   "pygments_lexer": "ipython3",
   "version": "3.11.5"
  }
 },
 "nbformat": 4,
 "nbformat_minor": 5
}
