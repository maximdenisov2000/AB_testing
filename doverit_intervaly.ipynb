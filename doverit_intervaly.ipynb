{
 "cells": [
  {
   "cell_type": "markdown",
   "id": "ceadecd0-de82-4b85-8e51-159cb569b471",
   "metadata": {},
   "source": [
    "Доверительные интервалы строятся по-разному при разных стат. критериях\n",
    "\n",
    "При бутстрепе - так как написано в файле bootstrap.ipynb\n",
    "\n",
    "При Т-тесте Уэлча и Критерии Стюдента - по формулам с использованием сигм и средних в выборках."
   ]
  },
  {
   "cell_type": "code",
   "execution_count": null,
   "id": "9aeae128-b756-4eae-876a-fd5afb36e9e8",
   "metadata": {},
   "outputs": [],
   "source": []
  }
 ],
 "metadata": {
  "kernelspec": {
   "display_name": "Python 3 (ipykernel)",
   "language": "python",
   "name": "python3"
  },
  "language_info": {
   "codemirror_mode": {
    "name": "ipython",
    "version": 3
   },
   "file_extension": ".py",
   "mimetype": "text/x-python",
   "name": "python",
   "nbconvert_exporter": "python",
   "pygments_lexer": "ipython3",
   "version": "3.11.5"
  }
 },
 "nbformat": 4,
 "nbformat_minor": 5
}
