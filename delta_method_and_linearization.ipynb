{
 "cells": [
  {
   "cell_type": "code",
   "execution_count": 8,
   "id": "b443734a-f463-4ff5-bf47-62b8a08d465b",
   "metadata": {
    "tags": []
   },
   "outputs": [],
   "source": [
    "import numpy as np\n",
    "import pandas as pd\n",
    "from scipy import stats\n",
    "from random import uniform,randint\n",
    "import uuid"
   ]
  },
  {
   "cell_type": "markdown",
   "id": "ccc36b23-b512-41af-a07b-b145b4e13fe1",
   "metadata": {},
   "source": [
    "# Дельта метод"
   ]
  },
  {
   "cell_type": "markdown",
   "id": "1ef034b5-4261-4ebe-a878-f9758ffa900e",
   "metadata": {},
   "source": [
    "**Дельта метод** - это метод обсчета результатов АБ теста по исследованию метрик отношения. \n",
    "\n",
    "**Метрика отношения** - это когда у каждого пользователя в выборках есть множество каких-то значений и мы получаем новую метрику, усредняя их.\n",
    "Например, у каждого юзера было множество покупок за период с разной ценой. Мы хотим узнать средний чек каждого юзера - это метрика отношения. \n",
    "\n",
    "**Суть метода:**\n",
    "    \n",
    "1. Каждому юзеру аггрегируем кол-во (Y) и сумму (X) его значений. Хотим исследовать метрику отношения X/Y.\n",
    "\n",
    "2. Считаем дисперсии в каждой выборке по формуле:\n",
    "    \n",
    "$$\n",
    "V\\left(\\frac{X}{Y}\\right) \\approx \\frac{1}{|A|} \\left( \\frac{1}{\\mu_Y^2} V(X) - \\frac{2 \\mu_X}{\\mu_Y^3} \\text{cov}(X, Y) + \\frac{\\mu_X^2}{\\mu_Y^4} V(Y) \\right)\n",
    "$$\n",
    "\n",
    "**X, Y** - столбцы с значениями числителя и знаменателя\n",
    "\n",
    "**VX** - дисперсия значений числителей (напр. значений сумм покупок по юзерам).\n",
    "\n",
    "**VY** - дисперсия значений знаменателей (напр. значений количеств покупок по юзерам)\n",
    "\n",
    "|A| - размер выборки\n",
    "\n",
    "mu_Х - среднее значений числителей \n",
    "\n",
    "mu_Y - среднее значений знаменателей\n",
    "\n",
    "\n",
    "\n",
    "3. Считаем t-статистику по формуле:\n",
    "$$\n",
    "t = \\frac{\\mathcal{R}_B - \\mathcal{R}_A}{\\sqrt{V(\\mathcal{R}_A) + V(\\mathcal{R}_B)}} \\sim N(0,1)\n",
    "$$\n",
    "\n",
    "**R** - полученная метрика отношения по всей выборке, то есть сумму всех числителей делим на всю сумму знаменателей (напр.: сумму всех чеков делим на сумму количеств всех покупок)\n",
    "\n",
    "**VR** - дисперсия, вычисляемая по вышеуказанной формуле."
   ]
  },
  {
   "cell_type": "markdown",
   "id": "d76f8ada-cdb7-405e-837c-902192d8e3eb",
   "metadata": {},
   "source": [
    "## Пример (средний чек):"
   ]
  },
  {
   "cell_type": "code",
   "execution_count": 131,
   "id": "ec992aea-fdff-4748-8d82-d7cf87f3bb17",
   "metadata": {
    "tags": []
   },
   "outputs": [
    {
     "data": {
      "text/html": [
       "<div>\n",
       "<style scoped>\n",
       "    .dataframe tbody tr th:only-of-type {\n",
       "        vertical-align: middle;\n",
       "    }\n",
       "\n",
       "    .dataframe tbody tr th {\n",
       "        vertical-align: top;\n",
       "    }\n",
       "\n",
       "    .dataframe thead th {\n",
       "        text-align: right;\n",
       "    }\n",
       "</style>\n",
       "<table border=\"1\" class=\"dataframe\">\n",
       "  <thead>\n",
       "    <tr style=\"text-align: right;\">\n",
       "      <th></th>\n",
       "      <th>user_id</th>\n",
       "      <th>bill</th>\n",
       "    </tr>\n",
       "  </thead>\n",
       "  <tbody>\n",
       "    <tr>\n",
       "      <th>0</th>\n",
       "      <td>af741a7a-3f63-48db-9d2b-88535764a445</td>\n",
       "      <td>5.145656</td>\n",
       "    </tr>\n",
       "    <tr>\n",
       "      <th>0</th>\n",
       "      <td>af741a7a-3f63-48db-9d2b-88535764a445</td>\n",
       "      <td>2.438346</td>\n",
       "    </tr>\n",
       "    <tr>\n",
       "      <th>0</th>\n",
       "      <td>af741a7a-3f63-48db-9d2b-88535764a445</td>\n",
       "      <td>1.403702</td>\n",
       "    </tr>\n",
       "    <tr>\n",
       "      <th>0</th>\n",
       "      <td>af741a7a-3f63-48db-9d2b-88535764a445</td>\n",
       "      <td>1.330163</td>\n",
       "    </tr>\n",
       "    <tr>\n",
       "      <th>0</th>\n",
       "      <td>af741a7a-3f63-48db-9d2b-88535764a445</td>\n",
       "      <td>3.563273</td>\n",
       "    </tr>\n",
       "  </tbody>\n",
       "</table>\n",
       "</div>"
      ],
      "text/plain": [
       "                                user_id      bill\n",
       "0  af741a7a-3f63-48db-9d2b-88535764a445  5.145656\n",
       "0  af741a7a-3f63-48db-9d2b-88535764a445  2.438346\n",
       "0  af741a7a-3f63-48db-9d2b-88535764a445  1.403702\n",
       "0  af741a7a-3f63-48db-9d2b-88535764a445  1.330163\n",
       "0  af741a7a-3f63-48db-9d2b-88535764a445  3.563273"
      ]
     },
     "execution_count": 131,
     "metadata": {},
     "output_type": "execute_result"
    }
   ],
   "source": [
    "# получаем пример датафрейм с набором юзеров и их чеков:\n",
    "\n",
    "# тестовая выборка:\n",
    "users = [str(uuid.uuid4()) for i in range(100)]\n",
    "bills = []\n",
    "\n",
    "for user in users:\n",
    "    bills_of_user = np.random.uniform(2, 11, randint(1,50)) # рандомное кол-во покупок 1..50 каждая ценой 2...11 (выше) \n",
    "    bills.append(bills_of_user)    \n",
    "\n",
    "data_test = pd.DataFrame({'user_id':users, 'bill':bills}).explode('bill')\n",
    "\n",
    "# контрольная выборка:\n",
    "users = [str(uuid.uuid4()) for i in range(1000)]\n",
    "bills = []\n",
    "\n",
    "for user in users:\n",
    "    bills_of_user = np.random.uniform(1, 10, randint(1,50)) # рандомное кол-во покупок 1..50 каждая ценой 1...10 \n",
    "    bills.append(bills_of_user)    \n",
    "\n",
    "data_control = pd.DataFrame({'user_id':users, 'bill':bills}).explode('bill')\n",
    "\n",
    "data_control.head()"
   ]
  },
  {
   "cell_type": "code",
   "execution_count": 132,
   "id": "aa1e833a-0337-4792-99a5-3d253525ab2a",
   "metadata": {
    "tags": []
   },
   "outputs": [
    {
     "name": "stdout",
     "output_type": "stream",
     "text": [
      "Размер теста: 100\n",
      "Размер контроля: 1000\n"
     ]
    },
    {
     "data": {
      "text/html": [
       "<div>\n",
       "<style scoped>\n",
       "    .dataframe tbody tr th:only-of-type {\n",
       "        vertical-align: middle;\n",
       "    }\n",
       "\n",
       "    .dataframe tbody tr th {\n",
       "        vertical-align: top;\n",
       "    }\n",
       "\n",
       "    .dataframe thead th {\n",
       "        text-align: right;\n",
       "    }\n",
       "</style>\n",
       "<table border=\"1\" class=\"dataframe\">\n",
       "  <thead>\n",
       "    <tr style=\"text-align: right;\">\n",
       "      <th></th>\n",
       "      <th>user_id</th>\n",
       "      <th>bill_sum</th>\n",
       "      <th>bill_count</th>\n",
       "    </tr>\n",
       "  </thead>\n",
       "  <tbody>\n",
       "    <tr>\n",
       "      <th>0</th>\n",
       "      <td>000f8e7a-1dc3-40f0-a9db-054e45495911</td>\n",
       "      <td>199.241234</td>\n",
       "      <td>40</td>\n",
       "    </tr>\n",
       "    <tr>\n",
       "      <th>1</th>\n",
       "      <td>008e8f30-eed5-461b-a379-87e49be8f1af</td>\n",
       "      <td>155.652318</td>\n",
       "      <td>28</td>\n",
       "    </tr>\n",
       "    <tr>\n",
       "      <th>2</th>\n",
       "      <td>00ab0394-4bdb-4259-8002-c9d5b1a62793</td>\n",
       "      <td>4.991587</td>\n",
       "      <td>2</td>\n",
       "    </tr>\n",
       "    <tr>\n",
       "      <th>3</th>\n",
       "      <td>010faf8f-cd27-4693-bd4d-e22a7c56d2e4</td>\n",
       "      <td>193.654742</td>\n",
       "      <td>37</td>\n",
       "    </tr>\n",
       "    <tr>\n",
       "      <th>4</th>\n",
       "      <td>0111d923-d4aa-42e3-93b6-7d52ac93e5c8</td>\n",
       "      <td>120.137586</td>\n",
       "      <td>18</td>\n",
       "    </tr>\n",
       "  </tbody>\n",
       "</table>\n",
       "</div>"
      ],
      "text/plain": [
       "                                user_id    bill_sum  bill_count\n",
       "0  000f8e7a-1dc3-40f0-a9db-054e45495911  199.241234          40\n",
       "1  008e8f30-eed5-461b-a379-87e49be8f1af  155.652318          28\n",
       "2  00ab0394-4bdb-4259-8002-c9d5b1a62793    4.991587           2\n",
       "3  010faf8f-cd27-4693-bd4d-e22a7c56d2e4  193.654742          37\n",
       "4  0111d923-d4aa-42e3-93b6-7d52ac93e5c8  120.137586          18"
      ]
     },
     "execution_count": 132,
     "metadata": {},
     "output_type": "execute_result"
    }
   ],
   "source": [
    "# предподготавливаем данные:\n",
    "preprocessed_test = data_test.groupby(['user_id'], as_index=False).agg({\"bill\":['sum', 'count']})\n",
    "preprocessed_test.columns = ['user_id', 'bill_sum', 'bill_count']\n",
    "preprocessed_test['bill_sum'] = preprocessed_test['bill_sum'].astype(float)\n",
    "\n",
    "preprocessed_control = data_control.groupby(['user_id'], as_index=False).agg({\"bill\":['sum', 'count']})\n",
    "preprocessed_control.columns = ['user_id', 'bill_sum', 'bill_count']\n",
    "preprocessed_control['bill_sum'] = preprocessed_control['bill_sum'].astype(float)\n",
    "\n",
    "print(f'Размер теста: {len(preprocessed_test)}')\n",
    "print(f'Размер контроля: {len(preprocessed_control)}')\n",
    "\n",
    "preprocessed_control.head()"
   ]
  },
  {
   "cell_type": "code",
   "execution_count": 133,
   "id": "4911b5d1-8ddc-4e57-b752-424709ab25f3",
   "metadata": {
    "tags": []
   },
   "outputs": [
    {
     "data": {
      "text/plain": [
       "0.0029484946960156755"
      ]
     },
     "execution_count": 133,
     "metadata": {},
     "output_type": "execute_result"
    }
   ],
   "source": [
    "import numpy as np\n",
    "\n",
    "# Средние значения\n",
    "avg_x = preprocessed_test['bill_sum'].mean()\n",
    "avg_y = preprocessed_test['bill_count'].mean()\n",
    "\n",
    "# Дисперсии\n",
    "var_x = preprocessed_test['bill_sum'].var()\n",
    "var_y = preprocessed_test['bill_count'].var()\n",
    "\n",
    "# Размер выборки\n",
    "n = len(preprocessed_test)\n",
    "\n",
    "# Ковариация\n",
    "cov = np.cov(preprocessed_test['bill_sum'], preprocessed_test['bill_count'])[0, 1]\n",
    "\n",
    "# Вычисление дисперсии отношения\n",
    "(var_x / (avg_y ** 2) - 2 * avg_x * cov / (avg_y ** 3) + (avg_x ** 2) * var_y / (avg_y ** 4)) / n\n"
   ]
  },
  {
   "cell_type": "code",
   "execution_count": 134,
   "id": "a5edfaa0-8ce8-4db7-bf7e-04405b6d79d2",
   "metadata": {
    "tags": []
   },
   "outputs": [
    {
     "data": {
      "text/plain": [
       "0.006877192574472133"
      ]
     },
     "execution_count": 134,
     "metadata": {},
     "output_type": "execute_result"
    }
   ],
   "source": [
    "var_test"
   ]
  },
  {
   "cell_type": "code",
   "execution_count": 135,
   "id": "ec1c152e-03a9-45c5-8bd3-e3f150b57cd2",
   "metadata": {},
   "outputs": [
    {
     "name": "stdout",
     "output_type": "stream",
     "text": [
      "Дисперсия теста: 0.00295\n",
      "Дисперсия контроля: 0.00025\n"
     ]
    }
   ],
   "source": [
    "# считаем дисперсии:\n",
    "\n",
    "# тест:\n",
    "avg_x = preprocessed_test['bill_sum'].mean()\n",
    "avg_y = preprocessed_test['bill_count'].mean()\n",
    "var_x = preprocessed_test['bill_sum'].var()\n",
    "var_y = preprocessed_test['bill_count'].var()\n",
    "n = len(preprocessed_test)\n",
    "cov = np.cov(preprocessed_test['bill_sum'], preprocessed_test['bill_count'])[0, 1]\n",
    "\n",
    "var_test = (var_x/(avg_y**2) - 2*avg_x*cov/(avg_y**3) + (avg_x**2)*var_y/(avg_y**4)) / n\n",
    "# контроль:\n",
    "avg_x = preprocessed_control['bill_sum'].mean()\n",
    "avg_y = preprocessed_control['bill_count'].mean()\n",
    "var_x = preprocessed_control['bill_sum'].var()\n",
    "var_y = preprocessed_control['bill_count'].var()\n",
    "n = len(preprocessed_control)\n",
    "cov = np.cov(preprocessed_control['bill_sum'], preprocessed_control['bill_count'])[0, 1]\n",
    "\n",
    "var_control = (var_x/(avg_y**2) - 2*avg_x*cov/(avg_y**3) + ((avg_x**2)*var_y)/(avg_y**4)) / n\n",
    "\n",
    "print(f'Дисперсия теста: {var_test:.5f}')\n",
    "print(f'Дисперсия контроля: {var_control:.5f}')"
   ]
  },
  {
   "cell_type": "code",
   "execution_count": 136,
   "id": "6fbb4eda-3997-4f94-adfc-6a4abdadf290",
   "metadata": {
    "tags": []
   },
   "outputs": [],
   "source": [
    "# считаем t-статистику:\n",
    "r_test = preprocessed_test['bill_sum'].sum() / preprocessed_test['bill_count'].sum()\n",
    "r_control = preprocessed_control['bill_sum'].sum() / preprocessed_control['bill_count'].sum()\n",
    "\n",
    "t_statistic = (r_test-r_control) / np.sqrt(var_test+var_control)"
   ]
  },
  {
   "cell_type": "code",
   "execution_count": 138,
   "id": "c9d3e376-0552-4487-a01f-d07166617983",
   "metadata": {
    "tags": []
   },
   "outputs": [
    {
     "data": {
      "text/plain": [
       "2.132527261671235e-63"
      ]
     },
     "execution_count": 138,
     "metadata": {},
     "output_type": "execute_result"
    }
   ],
   "source": [
    "# считаем p-value:\n",
    "pvalue = 2 * stats.norm.cdf(-abs(t_statistic))\n",
    "pvalue"
   ]
  },
  {
   "cell_type": "markdown",
   "id": "c465c5cf-72ef-4779-aff1-e9366ba62065",
   "metadata": {},
   "source": [
    "Формулу с MDE в этом случае надо использовать подставляя вместо станд. отклонения - корень из полученных дисперсий. \n",
    "MDE - мин. эффект в рассматриваемых единицах (напр. 10 руб.)"
   ]
  },
  {
   "cell_type": "markdown",
   "id": "edcb7f9a-df0c-419a-b307-aa240062adaf",
   "metadata": {},
   "source": [
    "# Линеаризация:"
   ]
  },
  {
   "cell_type": "code",
   "execution_count": null,
   "id": "1480d540-f0c5-4624-a523-230e1667cbcf",
   "metadata": {},
   "outputs": [],
   "source": []
  }
 ],
 "metadata": {
  "kernelspec": {
   "display_name": "Python 3 (ipykernel)",
   "language": "python",
   "name": "python3"
  },
  "language_info": {
   "codemirror_mode": {
    "name": "ipython",
    "version": 3
   },
   "file_extension": ".py",
   "mimetype": "text/x-python",
   "name": "python",
   "nbconvert_exporter": "python",
   "pygments_lexer": "ipython3",
   "version": "3.11.5"
  }
 },
 "nbformat": 4,
 "nbformat_minor": 5
}
