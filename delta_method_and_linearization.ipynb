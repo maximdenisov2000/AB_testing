{
 "cells": [
  {
   "cell_type": "code",
   "execution_count": 3,
   "id": "b443734a-f463-4ff5-bf47-62b8a08d465b",
   "metadata": {
    "tags": []
   },
   "outputs": [],
   "source": [
    "import numpy as np\n",
    "import pandas as pd\n",
    "from scipy import stats\n",
    "from random import uniform,randint\n",
    "import uuid"
   ]
  },
  {
   "cell_type": "markdown",
   "id": "ccc36b23-b512-41af-a07b-b145b4e13fe1",
   "metadata": {},
   "source": [
    "# Дельта метод"
   ]
  },
  {
   "cell_type": "markdown",
   "id": "1ef034b5-4261-4ebe-a878-f9758ffa900e",
   "metadata": {},
   "source": [
    "**Дельта метод** - это метод обсчета результатов АБ теста по исследованию метрик отношения. \n",
    "\n",
    "**Метрика отношения** - это когда у каждого пользователя в выборках есть множество каких-то значений и мы получаем новую метрику, усредняя их.\n",
    "Например, у каждого юзера было множество покупок за период с разной ценой. Мы хотим узнать средний чек каждого юзера - это метрика отношения. \n",
    "\n",
    "**Суть метода:**\n",
    "    \n",
    "1. Каждому юзеру аггрегируем кол-во (Y) и сумму (X) его значений. Хотим исследовать метрику отношения X/Y.\n",
    "\n",
    "2. Считаем дисперсии в каждой выборке по формуле:\n",
    "    \n",
    "$$\n",
    "V\\left(\\frac{X}{Y}\\right) \\approx \\frac{1}{|A|} \\left( \\frac{1}{\\mu_Y^2} V(X) - \\frac{2 \\mu_X}{\\mu_Y^3} \\text{cov}(X, Y) + \\frac{\\mu_X^2}{\\mu_Y^4} V(Y) \\right)\n",
    "$$\n",
    "\n",
    "**X, Y** - столбцы с значениями числителя и знаменателя\n",
    "\n",
    "**VX** - дисперсия значений числителей (напр. значений сумм покупок по юзерам).\n",
    "\n",
    "**VY** - дисперсия значений знаменателей (напр. значений количеств покупок по юзерам)\n",
    "\n",
    "|A| - размер выборки\n",
    "\n",
    "mu_Х - среднее значений числителей \n",
    "\n",
    "mu_Y - среднее значений знаменателей\n",
    "\n",
    "\n",
    "\n",
    "3. Считаем t-статистику по формуле:\n",
    "$$\n",
    "t = \\frac{\\mathcal{R}_B - \\mathcal{R}_A}{\\sqrt{V(\\mathcal{R}_A) + V(\\mathcal{R}_B)}} \\sim N(0,1)\n",
    "$$\n",
    "\n",
    "**R** - полученная метрика отношения по всей выборке, то есть сумму всех числителей делим на всю сумму знаменателей (напр.: сумму всех чеков делим на сумму количеств всех покупок)\n",
    "\n",
    "**VR** - дисперсия, вычисляемая по вышеуказанной формуле.\n",
    "\n",
    "\n",
    "Минусы дельта-метода - нельзя применить CUPED и стартификацию."
   ]
  },
  {
   "cell_type": "markdown",
   "id": "d76f8ada-cdb7-405e-837c-902192d8e3eb",
   "metadata": {},
   "source": [
    "## Пример (средний чек):"
   ]
  },
  {
   "cell_type": "code",
   "execution_count": 4,
   "id": "ec992aea-fdff-4748-8d82-d7cf87f3bb17",
   "metadata": {
    "tags": []
   },
   "outputs": [
    {
     "data": {
      "text/html": [
       "<div>\n",
       "<style scoped>\n",
       "    .dataframe tbody tr th:only-of-type {\n",
       "        vertical-align: middle;\n",
       "    }\n",
       "\n",
       "    .dataframe tbody tr th {\n",
       "        vertical-align: top;\n",
       "    }\n",
       "\n",
       "    .dataframe thead th {\n",
       "        text-align: right;\n",
       "    }\n",
       "</style>\n",
       "<table border=\"1\" class=\"dataframe\">\n",
       "  <thead>\n",
       "    <tr style=\"text-align: right;\">\n",
       "      <th></th>\n",
       "      <th>user_id</th>\n",
       "      <th>bill</th>\n",
       "    </tr>\n",
       "  </thead>\n",
       "  <tbody>\n",
       "    <tr>\n",
       "      <th>0</th>\n",
       "      <td>7b20ff20-d2a4-4986-a2e9-73983f978233</td>\n",
       "      <td>9.003749</td>\n",
       "    </tr>\n",
       "    <tr>\n",
       "      <th>0</th>\n",
       "      <td>7b20ff20-d2a4-4986-a2e9-73983f978233</td>\n",
       "      <td>9.102916</td>\n",
       "    </tr>\n",
       "    <tr>\n",
       "      <th>0</th>\n",
       "      <td>7b20ff20-d2a4-4986-a2e9-73983f978233</td>\n",
       "      <td>7.104547</td>\n",
       "    </tr>\n",
       "    <tr>\n",
       "      <th>0</th>\n",
       "      <td>7b20ff20-d2a4-4986-a2e9-73983f978233</td>\n",
       "      <td>4.439855</td>\n",
       "    </tr>\n",
       "    <tr>\n",
       "      <th>0</th>\n",
       "      <td>7b20ff20-d2a4-4986-a2e9-73983f978233</td>\n",
       "      <td>8.155702</td>\n",
       "    </tr>\n",
       "  </tbody>\n",
       "</table>\n",
       "</div>"
      ],
      "text/plain": [
       "                                user_id      bill\n",
       "0  7b20ff20-d2a4-4986-a2e9-73983f978233  9.003749\n",
       "0  7b20ff20-d2a4-4986-a2e9-73983f978233  9.102916\n",
       "0  7b20ff20-d2a4-4986-a2e9-73983f978233  7.104547\n",
       "0  7b20ff20-d2a4-4986-a2e9-73983f978233  4.439855\n",
       "0  7b20ff20-d2a4-4986-a2e9-73983f978233  8.155702"
      ]
     },
     "execution_count": 4,
     "metadata": {},
     "output_type": "execute_result"
    }
   ],
   "source": [
    "# получаем пример датафрейм с набором юзеров и их чеков:\n",
    "\n",
    "# тестовая выборка:\n",
    "users = [str(uuid.uuid4()) for i in range(100)]\n",
    "bills = []\n",
    "\n",
    "for user in users:\n",
    "    bills_of_user = np.random.uniform(2, 11, randint(1,50)) # рандомное кол-во покупок 1..50 каждая ценой 2...11 (выше) \n",
    "    bills.append(bills_of_user)    \n",
    "\n",
    "data_test = pd.DataFrame({'user_id':users, 'bill':bills}).explode('bill')\n",
    "\n",
    "# контрольная выборка:\n",
    "users = [str(uuid.uuid4()) for i in range(1000)]\n",
    "bills = []\n",
    "\n",
    "for user in users:\n",
    "    bills_of_user = np.random.uniform(1, 10, randint(1,50)) # рандомное кол-во покупок 1..50 каждая ценой 1...10 \n",
    "    bills.append(bills_of_user)    \n",
    "\n",
    "data_control = pd.DataFrame({'user_id':users, 'bill':bills}).explode('bill')\n",
    "\n",
    "data_control.head()"
   ]
  },
  {
   "cell_type": "code",
   "execution_count": 5,
   "id": "aa1e833a-0337-4792-99a5-3d253525ab2a",
   "metadata": {
    "tags": []
   },
   "outputs": [
    {
     "name": "stdout",
     "output_type": "stream",
     "text": [
      "Размер теста: 100\n",
      "Размер контроля: 1000\n"
     ]
    },
    {
     "data": {
      "text/html": [
       "<div>\n",
       "<style scoped>\n",
       "    .dataframe tbody tr th:only-of-type {\n",
       "        vertical-align: middle;\n",
       "    }\n",
       "\n",
       "    .dataframe tbody tr th {\n",
       "        vertical-align: top;\n",
       "    }\n",
       "\n",
       "    .dataframe thead th {\n",
       "        text-align: right;\n",
       "    }\n",
       "</style>\n",
       "<table border=\"1\" class=\"dataframe\">\n",
       "  <thead>\n",
       "    <tr style=\"text-align: right;\">\n",
       "      <th></th>\n",
       "      <th>user_id</th>\n",
       "      <th>bill_sum</th>\n",
       "      <th>bill_count</th>\n",
       "    </tr>\n",
       "  </thead>\n",
       "  <tbody>\n",
       "    <tr>\n",
       "      <th>0</th>\n",
       "      <td>000ecf9b-e50f-4580-83a8-4c7651acdac9</td>\n",
       "      <td>69.228778</td>\n",
       "      <td>11</td>\n",
       "    </tr>\n",
       "    <tr>\n",
       "      <th>1</th>\n",
       "      <td>002b29dc-ecef-4f27-af27-a5e1fb4aebc7</td>\n",
       "      <td>127.513361</td>\n",
       "      <td>27</td>\n",
       "    </tr>\n",
       "    <tr>\n",
       "      <th>2</th>\n",
       "      <td>004b8918-6e0d-41bb-995e-eb016d03355e</td>\n",
       "      <td>94.218713</td>\n",
       "      <td>16</td>\n",
       "    </tr>\n",
       "    <tr>\n",
       "      <th>3</th>\n",
       "      <td>005e5f4d-6935-4ad6-8987-2ce833944535</td>\n",
       "      <td>174.821271</td>\n",
       "      <td>33</td>\n",
       "    </tr>\n",
       "    <tr>\n",
       "      <th>4</th>\n",
       "      <td>010864b7-a254-4009-82e7-db7294f2f4e5</td>\n",
       "      <td>68.089787</td>\n",
       "      <td>13</td>\n",
       "    </tr>\n",
       "  </tbody>\n",
       "</table>\n",
       "</div>"
      ],
      "text/plain": [
       "                                user_id    bill_sum  bill_count\n",
       "0  000ecf9b-e50f-4580-83a8-4c7651acdac9   69.228778          11\n",
       "1  002b29dc-ecef-4f27-af27-a5e1fb4aebc7  127.513361          27\n",
       "2  004b8918-6e0d-41bb-995e-eb016d03355e   94.218713          16\n",
       "3  005e5f4d-6935-4ad6-8987-2ce833944535  174.821271          33\n",
       "4  010864b7-a254-4009-82e7-db7294f2f4e5   68.089787          13"
      ]
     },
     "execution_count": 5,
     "metadata": {},
     "output_type": "execute_result"
    }
   ],
   "source": [
    "# предподготавливаем данные:\n",
    "preprocessed_test = data_test.groupby(['user_id'], as_index=False).agg({\"bill\":['sum', 'count']})\n",
    "preprocessed_test.columns = ['user_id', 'bill_sum', 'bill_count']\n",
    "preprocessed_test['bill_sum'] = preprocessed_test['bill_sum'].astype(float)\n",
    "\n",
    "preprocessed_control = data_control.groupby(['user_id'], as_index=False).agg({\"bill\":['sum', 'count']})\n",
    "preprocessed_control.columns = ['user_id', 'bill_sum', 'bill_count']\n",
    "preprocessed_control['bill_sum'] = preprocessed_control['bill_sum'].astype(float)\n",
    "\n",
    "print(f'Размер теста: {len(preprocessed_test)}')\n",
    "print(f'Размер контроля: {len(preprocessed_control)}')\n",
    "\n",
    "preprocessed_control.head()"
   ]
  },
  {
   "cell_type": "code",
   "execution_count": 8,
   "id": "ec1c152e-03a9-45c5-8bd3-e3f150b57cd2",
   "metadata": {},
   "outputs": [
    {
     "name": "stdout",
     "output_type": "stream",
     "text": [
      "Дисперсия теста: 0.00296\n",
      "Дисперсия контроля: 0.00026\n"
     ]
    }
   ],
   "source": [
    "# считаем дисперсии:\n",
    "\n",
    "# тест:\n",
    "avg_x = preprocessed_test['bill_sum'].mean()\n",
    "avg_y = preprocessed_test['bill_count'].mean()\n",
    "var_x = preprocessed_test['bill_sum'].var()\n",
    "var_y = preprocessed_test['bill_count'].var()\n",
    "n = len(preprocessed_test)\n",
    "cov = np.cov(preprocessed_test['bill_sum'], preprocessed_test['bill_count'])[0, 1]\n",
    "\n",
    "var_test = (var_x/(avg_y**2) - 2*avg_x*cov/(avg_y**3) + (avg_x**2)*var_y/(avg_y**4)) / n\n",
    "# контроль:\n",
    "avg_x = preprocessed_control['bill_sum'].mean()\n",
    "avg_y = preprocessed_control['bill_count'].mean()\n",
    "var_x = preprocessed_control['bill_sum'].var()\n",
    "var_y = preprocessed_control['bill_count'].var()\n",
    "n = len(preprocessed_control)\n",
    "cov = np.cov(preprocessed_control['bill_sum'], preprocessed_control['bill_count'])[0, 1]\n",
    "\n",
    "var_control = (var_x/(avg_y**2) - 2*avg_x*cov/(avg_y**3) + ((avg_x**2)*var_y)/(avg_y**4)) / n\n",
    "\n",
    "print(f'Дисперсия теста: {var_test:.5f}')\n",
    "print(f'Дисперсия контроля: {var_control:.5f}')"
   ]
  },
  {
   "cell_type": "code",
   "execution_count": 9,
   "id": "6fbb4eda-3997-4f94-adfc-6a4abdadf290",
   "metadata": {
    "tags": []
   },
   "outputs": [],
   "source": [
    "# считаем t-статистику:\n",
    "r_test = preprocessed_test['bill_sum'].sum() / preprocessed_test['bill_count'].sum()\n",
    "r_control = preprocessed_control['bill_sum'].sum() / preprocessed_control['bill_count'].sum()\n",
    "\n",
    "t_statistic = (r_test-r_control) / np.sqrt(var_test+var_control)"
   ]
  },
  {
   "cell_type": "code",
   "execution_count": 10,
   "id": "c9d3e376-0552-4487-a01f-d07166617983",
   "metadata": {
    "tags": []
   },
   "outputs": [
    {
     "data": {
      "text/plain": [
       "4.8021597489453304e-60"
      ]
     },
     "execution_count": 10,
     "metadata": {},
     "output_type": "execute_result"
    }
   ],
   "source": [
    "# считаем p-value:\n",
    "pvalue = 2 * stats.norm.cdf(-abs(t_statistic))\n",
    "pvalue"
   ]
  },
  {
   "cell_type": "markdown",
   "id": "c465c5cf-72ef-4779-aff1-e9366ba62065",
   "metadata": {},
   "source": [
    "Формулу с MDE в этом случае надо использовать подставляя вместо станд. отклонения - корень из полученных дисперсий. \n",
    "MDE - мин. эффект в рассматриваемых единицах (напр. 10 руб.)"
   ]
  },
  {
   "cell_type": "markdown",
   "id": "edcb7f9a-df0c-419a-b307-aa240062adaf",
   "metadata": {},
   "source": [
    "# Линеаризация:"
   ]
  },
  {
   "cell_type": "markdown",
   "id": "322aaa7f-4bb9-4b0e-84d4-8503f3a40587",
   "metadata": {},
   "source": [
    "**Линеаризация** - метод для обсчета результатов АБ теста на метрики отношения, который позволяет перейти к непрерывным пользовательнским метрикам, чтобы можно было применять CUPED, стартификацию и применять обычный T-тест."
   ]
  },
  {
   "cell_type": "markdown",
   "id": "26c27249-6d2a-400b-bcea-36f3705785b6",
   "metadata": {
    "tags": []
   },
   "source": [
    "**Суть метода:**\n",
    "    \n",
    "Берем числитель (**X**) и знаменатель (**Y**) и считаем коэф-т **k**, равный общей метрике отношения в контрольной выборке т.е. сумму всех X делить на сумму всех Y. И считаем линеаризованную метрику по формуле:\n",
    "    \n",
    "$$\n",
    "L = X - kY \n",
    "$$\n",
    "\n",
    "для каждого юзера\n",
    "\n",
    "$$k = \\frac{\\sum X_i}{\\sum Y_i}$$ (в контроле)"
   ]
  },
  {
   "cell_type": "markdown",
   "id": "496ff32b-aff1-4800-a88f-e02cd6f0ed82",
   "metadata": {},
   "source": [
    "## Пример (средний чек):"
   ]
  },
  {
   "cell_type": "code",
   "execution_count": 20,
   "id": "1a4bc256-e2ba-44a1-957e-cb276a20cc78",
   "metadata": {
    "tags": []
   },
   "outputs": [
    {
     "data": {
      "text/plain": [
       "2.525958461274059e-52"
      ]
     },
     "execution_count": 20,
     "metadata": {},
     "output_type": "execute_result"
    }
   ],
   "source": [
    "# считаем коэф-т:\n",
    "k = sum(preprocessed_control['bill_sum']) / sum(preprocessed_control['bill_count'])\n",
    "\n",
    "# считаем линеаризированную метрику для каждой выборки:\n",
    "preprocessed_control['lin_metric'] = preprocessed_control['bill_sum'] - k*preprocessed_control['bill_count']\n",
    "preprocessed_test['lin_metric'] = preprocessed_test['bill_sum'] - k*preprocessed_test['bill_count']\n",
    "\n",
    "# тут можно применить CUPED\n",
    "\n",
    "# считаем pvalue:\n",
    "pvalue = stats.ttest_ind(preprocessed_test['lin_metric'], preprocessed_control['lin_metric'])[1]\n",
    "pvalue"
   ]
  },
  {
   "cell_type": "code",
   "execution_count": null,
   "id": "cb261e50-eeee-4f8a-b021-ab695ad02ee3",
   "metadata": {},
   "outputs": [],
   "source": []
  }
 ],
 "metadata": {
  "kernelspec": {
   "display_name": "Python 3 (ipykernel)",
   "language": "python",
   "name": "python3"
  },
  "language_info": {
   "codemirror_mode": {
    "name": "ipython",
    "version": 3
   },
   "file_extension": ".py",
   "mimetype": "text/x-python",
   "name": "python",
   "nbconvert_exporter": "python",
   "pygments_lexer": "ipython3",
   "version": "3.11.5"
  }
 },
 "nbformat": 4,
 "nbformat_minor": 5
}
