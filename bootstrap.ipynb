{
 "cells": [
  {
   "cell_type": "markdown",
   "id": "1917b34e-d942-418c-9fcc-d806666ddbbe",
   "metadata": {
    "tags": []
   },
   "source": [
    "**Бутстреп**  - метод оценки доверительного интервала cтатистики, основанный на многократной генерации случайных подвыборок из имеющихся данных."
   ]
  },
  {
   "cell_type": "markdown",
   "id": "fa49e015-7666-4904-933e-ee4da2c8544f",
   "metadata": {},
   "source": [
    "Бутстрап нужен когда нужно сравнить не средние у 2 выборок или требования к Т-тесту не выполнены (он не работает)\n",
    "\n",
    "Но бутстрап грешит высокими затратами времени и ресурсов на больших выборках, поэтому его не приоритетно применять. Т-тест всегда быстрее."
   ]
  },
  {
   "cell_type": "markdown",
   "id": "2dd70439-66ae-4781-a693-6019165cbb69",
   "metadata": {
    "tags": []
   },
   "source": [
    "**Порядок действий:**\n",
    "\n",
    "Исходные данные - две выборки (А и Б)\n",
    "\n",
    "0. Считаем реальную разницу статистик (например разницу средних, 95, 99 квантиля выборок) ***real_diff***\n",
    "\n",
    "1. На каждой итерации генерируем 2 синтетические подвыборки и считаем разницу получившихся статистик (например разницу средних, 95, 99 квантиля выборок), записываем в список\n",
    "\n",
    "2. Повторяем итерации 100-10000 раз\n",
    "3. По полученному списку строим доверительный интервал с помощью квантилей.\n",
    "4. Проверям чтоб в полученный интервал не входил 0. Если 0 входит - то не можем отвергнуть нулевую гипотезу и разница двух выборок не стат. значима.\n",
    "5. Если 0 не входит то все хорошо и можем утверждать, что \"Выборки стат. значимо отличаются на ***real_diff*** и разница с вероятностью p% лежит в интервале ...\""
   ]
  },
  {
   "cell_type": "markdown",
   "id": "64061df1-372a-40f5-9a09-dc3ccd2a27b8",
   "metadata": {},
   "source": [
    "Роль p-value тут играет вероятность доверительного интервала (alpha=0.05 соответствует 95%)"
   ]
  },
  {
   "cell_type": "markdown",
   "id": "60f31acc-40b9-4524-b328-b9aa7f44c5a6",
   "metadata": {},
   "source": [
    "# Пример (сравнение средних двух выборок):"
   ]
  },
  {
   "cell_type": "code",
   "execution_count": 7,
   "id": "47268006-5ec3-43e5-b33c-ee31ac9e020f",
   "metadata": {},
   "outputs": [],
   "source": [
    "import numpy as np\n",
    "import pandas as pd"
   ]
  },
  {
   "cell_type": "markdown",
   "id": "8284c42b-73a4-4be5-bbb2-384502d21b3c",
   "metadata": {},
   "source": [
    "#### создаем 2 рандомные выборки (для примера):"
   ]
  },
  {
   "cell_type": "code",
   "execution_count": 78,
   "id": "d9b2b30c-6b3a-4d32-af01-caed2f680943",
   "metadata": {
    "tags": []
   },
   "outputs": [],
   "source": [
    "sample_1 = np.random.normal(10, 20, 1000)\n",
    "sample_2 = np.random.normal(15, 20, 1000)"
   ]
  },
  {
   "cell_type": "markdown",
   "id": "470be31a-8796-46c0-ac72-55dc5dc51e8e",
   "metadata": {},
   "source": [
    "#### пример сравнения разницы средних двух выборок:"
   ]
  },
  {
   "cell_type": "code",
   "execution_count": 79,
   "id": "f79d51b1-76b0-4ec5-99a5-d8ce8ef422c5",
   "metadata": {
    "tags": []
   },
   "outputs": [],
   "source": [
    "bs_diffs = []\n",
    "\n",
    "for i in range(10_000):\n",
    "    bs_1 = np.random.choice(sample_1, size=len(sample_1), replace=True)\n",
    "    bs_2 = np.random.choice(sample_2, size=len(sample_1), replace=True)\n",
    "    bs_diff = np.mean(bs_1) - np.mean(bs_2)\n",
    "    bs_diffs.append(bs_diff)  "
   ]
  },
  {
   "cell_type": "markdown",
   "id": "8dea17b7-1eab-46ed-be67-dd4638d86bd0",
   "metadata": {},
   "source": [
    "#### оцениваем доверит. интервал для разницы между средними в выборках:"
   ]
  },
  {
   "cell_type": "code",
   "execution_count": 75,
   "id": "a3c8f435-14c6-486b-956b-d102dc63e62f",
   "metadata": {
    "tags": []
   },
   "outputs": [
    {
     "name": "stdout",
     "output_type": "stream",
     "text": [
      "Выборки стат. значимо отличаются на -5.21. Разница лежит с вероятностью 95 % - в интервале -6.77..-3.48\n"
     ]
    }
   ],
   "source": [
    "perc = 95 # вероятность интервала (стат. значимость alpha=0.05 => 95%)\n",
    "\n",
    "lower_q = (1-perc/100)/2 # нижний квантиль\n",
    "upper_q = 1 - (1-perc/100)/2 # верхний квантиль\n",
    "\n",
    "# получаем границы интервала:\n",
    "lower_bound = np.quantile(bs_diffs, lower_q)\n",
    "upper_bound = np.quantile(bs_diffs, upper_q)\n",
    "\n",
    "# считаем реальную разницу средних между выборками:\n",
    "real_diff = np.mean(sample_1) - np.mean(sample_2)\n",
    "\n",
    "# проверяем входит ли ноль в интервал (если входит то не можем говорить о стат. значимых различиях):\n",
    "if lower_bound <= 0 <= upper_bound:\n",
    "    print(\"Не можем отвергнуть нулевую гипотезу. Нет стат. значимого различия между средними в выборках.\")\n",
    "else:\n",
    "    print(f'Выборки стат. значимо отличаются на {real_diff:.2f}. Разница лежит с вероятностью {perc} % - в интервале {lower_bound:.2f}..{upper_bound:.2f}')"
   ]
  },
  {
   "cell_type": "markdown",
   "id": "ab17afa7-219a-4ce9-a346-89f4288c1ec9",
   "metadata": {},
   "source": [
    "# Проверим, дает ли бутстрап с установленным 95%-интервалом ошибку первого рода = 0.05:"
   ]
  },
  {
   "cell_type": "code",
   "execution_count": 81,
   "id": "c09302d9-7e5b-4982-8ca6-eb544b211c49",
   "metadata": {
    "tags": []
   },
   "outputs": [
    {
     "name": "stdout",
     "output_type": "stream",
     "text": [
      "Вероятность ошибки первого рода: 0.053\n"
     ]
    }
   ],
   "source": [
    "import numpy as np\n",
    "\n",
    "# ф-ция проведения бутстрапа:\n",
    "def bootstrap_test(sample_1, sample_2, n_bootstraps=1000, perc=95):\n",
    "    bs_diffs = []\n",
    "\n",
    "    for i in range(n_bootstraps):\n",
    "        bs_1 = np.random.choice(sample_1, size=len(sample_1), replace=True)\n",
    "        bs_2 = np.random.choice(sample_2, size=len(sample_2), replace=True)\n",
    "        bs_diff = np.mean(bs_1) - np.mean(bs_2)\n",
    "        bs_diffs.append(bs_diff)\n",
    "\n",
    "    lower_q = (1 - perc / 100) / 2\n",
    "    upper_q = 1 - (1 - perc / 100) / 2\n",
    "\n",
    "    lower_bound = np.quantile(bs_diffs, lower_q)\n",
    "    upper_bound = np.quantile(bs_diffs, upper_q)\n",
    "\n",
    "    return lower_bound, upper_bound\n",
    "\n",
    "# Параметры теста\n",
    "n_tests = 1000  # Количество тестов\n",
    "sample_size = 1000  # Размер каждой выборки\n",
    "true_mean = 10  # Истинное среднее значение выборок\n",
    "std_dev = 20  # Стандартное отклонение выборок\n",
    "alpha = 0.05  # Уровень значимости\n",
    "\n",
    "type_1_errors = 0\n",
    "\n",
    "for _ in range(n_tests):\n",
    "    # Генерируем две выборки с одинаковыми средними\n",
    "    sample_1 = np.random.normal(true_mean, std_dev, sample_size)\n",
    "    sample_2 = np.random.normal(true_mean, std_dev, sample_size)\n",
    "    \n",
    "    # Выполняем бутстреп-тест\n",
    "    lower_bound, upper_bound = bootstrap_test(sample_1, sample_2)\n",
    "    \n",
    "    # Проверяем, отвергается ли нулевая гипотеза\n",
    "    if lower_bound > 0 or upper_bound < 0:\n",
    "        type_1_errors += 1\n",
    "\n",
    "# Вероятность ошибки первого рода\n",
    "type_1_error_rate = type_1_errors / n_tests\n",
    "print(f'Вероятность ошибки первого рода: {type_1_error_rate:.3f}')"
   ]
  },
  {
   "cell_type": "code",
   "execution_count": null,
   "id": "5b3e7657-d9d1-4194-99b6-e1c4b7af4b23",
   "metadata": {},
   "outputs": [],
   "source": []
  }
 ],
 "metadata": {
  "kernelspec": {
   "display_name": "Python 3 (ipykernel)",
   "language": "python",
   "name": "python3"
  },
  "language_info": {
   "codemirror_mode": {
    "name": "ipython",
    "version": 3
   },
   "file_extension": ".py",
   "mimetype": "text/x-python",
   "name": "python",
   "nbconvert_exporter": "python",
   "pygments_lexer": "ipython3",
   "version": "3.11.5"
  }
 },
 "nbformat": 4,
 "nbformat_minor": 5
}
