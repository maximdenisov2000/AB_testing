{
 "cells": [
  {
   "cell_type": "markdown",
   "id": "826753d2-8a4c-41d1-ac66-d977a4934fb3",
   "metadata": {
    "tags": []
   },
   "source": [
    "**CUPED** - метод понижения размерности, основанный на использовании исторических данных и предположения, что текущие данные будут кореллировать с историческими."
   ]
  },
  {
   "cell_type": "markdown",
   "id": "53b62af6-51e5-453a-94e5-eef0575e8498",
   "metadata": {},
   "source": [
    "Для расчетов надо посчитать новую метрику:"
   ]
  },
  {
   "cell_type": "markdown",
   "id": "4c63eea2-3aea-4c6f-9f6f-f9d761a20178",
   "metadata": {},
   "source": [
    "$$\n",
    "\\hat{Y} = Y - \\theta (X - \\mathbb{E}X)\n",
    "$$"
   ]
  },
  {
   "cell_type": "markdown",
   "id": "1921e4a3-dc03-45ac-b6fe-14490da48a06",
   "metadata": {
    "tags": []
   },
   "source": [
    "**Y** - значение метрики во время эксперимента\n",
    "\n",
    "**X** - ковариата (значение метрики до эксперимента - историческое)\n",
    "\n",
    "**θ** – коэффициент\n",
    "\n",
    "$$\n",
    "\\theta = \\frac{\\text{cov}(Y, X)}{\\mathbb{V}X}\n",
    "$$\n",
    "\n",
    "\n",
    "**EX** - мат. ожидание (среднее значение метрики)"
   ]
  },
  {
   "cell_type": "markdown",
   "id": "f885deee-4021-469c-bdce-3dba07e6a8ad",
   "metadata": {},
   "source": [
    "При подсчете t-теста EX у обоих выборок одинаков, поэтому от него избавляются и  берут:\n",
    "    \n",
    "$$ \\hat{Y} = Y - \\theta X $$"
   ]
  },
  {
   "cell_type": "markdown",
   "id": "9fe78bde-a0a4-46cf-a8bd-de66df8e3414",
   "metadata": {
    "tags": []
   },
   "source": [
    "В результате дисперсия новой выборки будет примерно в коэф. корреляция в квадрате раз меньше, чем у исходной."
   ]
  },
  {
   "cell_type": "markdown",
   "id": "a2890395-db7d-42b2-95c6-24bffc26f4b6",
   "metadata": {},
   "source": [
    "При этом если тест проводится в течение 4 недель, то ковариату надо брать тоже на 4 неделях до начала теста."
   ]
  },
  {
   "cell_type": "markdown",
   "id": "400de424-30e1-4488-a9a9-14a24c022025",
   "metadata": {},
   "source": [
    "Также нужно рассчитывать **min_sample_size** по формуле MDE, используя cuped-метрику и ее дисперсию.\n",
    "\n",
    "В этом случае для расчета этой формулы надо взять 4 недели до начала эксп-та для расчета **Y** и 4 недели до этого (8...4 нед до начала эксп-та) для расчета ковариаты."
   ]
  },
  {
   "cell_type": "code",
   "execution_count": 3,
   "id": "86df2d37-beb2-430d-a445-a0d8fd7609dc",
   "metadata": {},
   "outputs": [],
   "source": [
    "import numpy as np\n",
    "import pandas as pd\n",
    "from scipy import stats\n",
    "from random import uniform"
   ]
  },
  {
   "cell_type": "code",
   "execution_count": 68,
   "id": "1da234e2-b242-40a7-9aee-232dbb49daa9",
   "metadata": {
    "tags": []
   },
   "outputs": [
    {
     "data": {
      "text/html": [
       "<div>\n",
       "<style scoped>\n",
       "    .dataframe tbody tr th:only-of-type {\n",
       "        vertical-align: middle;\n",
       "    }\n",
       "\n",
       "    .dataframe tbody tr th {\n",
       "        vertical-align: top;\n",
       "    }\n",
       "\n",
       "    .dataframe thead th {\n",
       "        text-align: right;\n",
       "    }\n",
       "</style>\n",
       "<table border=\"1\" class=\"dataframe\">\n",
       "  <thead>\n",
       "    <tr style=\"text-align: right;\">\n",
       "      <th></th>\n",
       "      <th>historical_metric</th>\n",
       "      <th>experiment_metric</th>\n",
       "      <th>group</th>\n",
       "    </tr>\n",
       "  </thead>\n",
       "  <tbody>\n",
       "    <tr>\n",
       "      <th>15038</th>\n",
       "      <td>38.680368</td>\n",
       "      <td>51.614627</td>\n",
       "      <td>test</td>\n",
       "    </tr>\n",
       "    <tr>\n",
       "      <th>668</th>\n",
       "      <td>33.665167</td>\n",
       "      <td>45.896387</td>\n",
       "      <td>test</td>\n",
       "    </tr>\n",
       "    <tr>\n",
       "      <th>1489</th>\n",
       "      <td>12.832447</td>\n",
       "      <td>17.451896</td>\n",
       "      <td>control</td>\n",
       "    </tr>\n",
       "    <tr>\n",
       "      <th>11953</th>\n",
       "      <td>16.317417</td>\n",
       "      <td>20.471571</td>\n",
       "      <td>control</td>\n",
       "    </tr>\n",
       "  </tbody>\n",
       "</table>\n",
       "</div>"
      ],
      "text/plain": [
       "       historical_metric  experiment_metric    group\n",
       "15038          38.680368          51.614627     test\n",
       "668            33.665167          45.896387     test\n",
       "1489           12.832447          17.451896  control\n",
       "11953          16.317417          20.471571  control"
      ]
     },
     "execution_count": 68,
     "metadata": {},
     "output_type": "execute_result"
    }
   ],
   "source": [
    "# генерируем данные:\n",
    "control = np.random.normal(20, 8, 20000)\n",
    "test = np.random.normal(50, 7, 20000)\n",
    "\n",
    "historical_for_test = np.random.uniform(0.7, 0.8, 20000)*test # создаем историч. данные (ковариату) коррелирующую с экспериментом\n",
    "historical_for_control = np.random.uniform(0.7, 0.8, 20000)*control # создаем историч. данные (ковариату) коррелирующую с экспериментом\n",
    "\n",
    "control = pd.DataFrame({'historical_metric':historical_for_control, 'experiment_metric':control})\n",
    "control['group'] = 'control'\n",
    "test = pd.DataFrame({'historical_metric':historical_for_test, 'experiment_metric':test})\n",
    "test['group'] = 'test'\n",
    "\n",
    "data = pd.concat([test, control])\n",
    "data.sample(4)"
   ]
  },
  {
   "cell_type": "code",
   "execution_count": 69,
   "id": "8ce5a8ab-ed49-4333-bdd8-c61475a5646b",
   "metadata": {
    "tags": []
   },
   "outputs": [
    {
     "data": {
      "text/plain": [
       "1.3224865076658934"
      ]
     },
     "execution_count": 69,
     "metadata": {},
     "output_type": "execute_result"
    }
   ],
   "source": [
    "# считаем θ:\n",
    "x = data['historical_metric']\n",
    "y = data['experiment_metric']\n",
    "covariance = np.cov(x, y)[0, 1]\n",
    "variance = x.var()\n",
    "theta = covariance / variance\n",
    "\n",
    "theta"
   ]
  },
  {
   "cell_type": "code",
   "execution_count": 70,
   "id": "7a7b1b29-f524-4cd7-97ee-0230ba6aadbc",
   "metadata": {
    "tags": []
   },
   "outputs": [
    {
     "data": {
      "text/plain": [
       "2.5568664778085292e-61"
      ]
     },
     "execution_count": 70,
     "metadata": {},
     "output_type": "execute_result"
    }
   ],
   "source": [
    "# считаем ttest:\n",
    "metric_cuped_control = data.query('group==\"control\"')['experiment_metric'] - theta * data.query('group==\"control\"')['historical_metric']\n",
    "metric_cuped_test = data.query('group==\"test\"')['experiment_metric'] - theta * data.query('group==\"test\"')['historical_metric']\n",
    "_, pvalue = stats.ttest_ind(metric_cuped_control, metric_cuped_test)\n",
    "\n",
    "pvalue"
   ]
  },
  {
   "cell_type": "code",
   "execution_count": 71,
   "id": "a719edfc-409c-44b6-b55c-2df2e6f04115",
   "metadata": {
    "tags": []
   },
   "outputs": [
    {
     "name": "stdout",
     "output_type": "stream",
     "text": [
      "Дисперсия до: 63.31\n",
      "Дисперсия после CUPED: 0.66\n"
     ]
    }
   ],
   "source": [
    "# насколько уменьшилась дисперсия:\n",
    "before = data.query('group==\"control\"')['experiment_metric'].var()\n",
    "after = metric_cuped_control.var()\n",
    "\n",
    "print(f'Дисперсия до: {before:.2f}')\n",
    "print(f'Дисперсия после CUPED: {after:.2f}')"
   ]
  }
 ],
 "metadata": {
  "kernelspec": {
   "display_name": "Python 3 (ipykernel)",
   "language": "python",
   "name": "python3"
  },
  "language_info": {
   "codemirror_mode": {
    "name": "ipython",
    "version": 3
   },
   "file_extension": ".py",
   "mimetype": "text/x-python",
   "name": "python",
   "nbconvert_exporter": "python",
   "pygments_lexer": "ipython3",
   "version": "3.11.5"
  }
 },
 "nbformat": 4,
 "nbformat_minor": 5
}
