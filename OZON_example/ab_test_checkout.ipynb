{
 "cells": [
  {
   "cell_type": "markdown",
   "id": "4882df83-10d7-4991-b197-abd1dedd29ed",
   "metadata": {},
   "source": [
    "Тест проводился 25 мая - 25 июня 2023."
   ]
  },
  {
   "cell_type": "markdown",
   "id": "57162b48-37c9-4c61-9fa0-536047aa681f",
   "metadata": {},
   "source": [
    "Здесь представлен пример расчета АБ теста с CUPED"
   ]
  },
  {
   "cell_type": "code",
   "execution_count": 1,
   "id": "72f620d7-f3e2-40af-b237-085282b46cfa",
   "metadata": {
    "tags": []
   },
   "outputs": [
    {
     "name": "stdin",
     "output_type": "stream",
     "text": [
      "Enter your Vertica password:  ········\n"
     ]
    }
   ],
   "source": [
    "import warnings\n",
    "warnings.filterwarnings('ignore')\n",
    "import pandas as pd\n",
    "from data_utils.vertica_utils import Vertica\n",
    "import getpass\n",
    "vert = Vertica(account='srv_pvz_post_team', password=getpass.getpass(prompt='Enter your Vertica password: '), host='prod')"
   ]
  },
  {
   "cell_type": "code",
   "execution_count": 2,
   "id": "7476151c-e306-4645-940c-a0cce6a230e0",
   "metadata": {
    "tags": []
   },
   "outputs": [],
   "source": [
    "from datetime import date, timedelta\n",
    "import numpy as np\n",
    "from scipy import stats\n",
    "import matplotlib.pyplot as plt\n",
    "import seaborn as sns"
   ]
  },
  {
   "cell_type": "code",
   "execution_count": 3,
   "id": "d357cd04-af4c-4a5b-8f0c-b43d10aa45ca",
   "metadata": {
    "tags": []
   },
   "outputs": [],
   "source": [
    "from random import choice"
   ]
  },
  {
   "cell_type": "markdown",
   "id": "904316f0-bead-4180-930d-7e64a94bf8d3",
   "metadata": {},
   "source": [
    "## 1. Собираем данные за последний и предпоследний месяц перед началом эксп-та:"
   ]
  },
  {
   "cell_type": "code",
   "execution_count": 32,
   "id": "ed21fcd9-f256-4166-b85f-d52e22082803",
   "metadata": {},
   "outputs": [],
   "source": [
    "end = pd.Timestamp('25-May-2023')\n",
    "start = end - timedelta(days=30)"
   ]
  },
  {
   "cell_type": "code",
   "execution_count": 68,
   "id": "73273c2a-7da9-4bfc-85ef-b84dbc14b1c4",
   "metadata": {
    "tags": []
   },
   "outputs": [
    {
     "name": "stdout",
     "output_type": "stream",
     "text": [
      "CPU times: user 16 s, sys: 560 ms, total: 16.5 s\n",
      "Wall time: 44.5 s\n"
     ]
    }
   ],
   "source": [
    "%%time\n",
    "\n",
    "q = \\\n",
    "\"\"\"\n",
    "SELECT \n",
    "FactDate,\n",
    "itemdeliveryid as id_cd,\n",
    "SUM (CASE WHEN A.ActionTypeID = 401 THEN A.SalesCommercial WHEN A.ActionTypeID IN (402, 403) THEN - A.SalesCommercial ELSE 0 END) as gmv\n",
    "FROM metazonbeeeye.action AS a\n",
    "JOIN (select distinct id_cd, delivery_type from CA_team.Lastmile_dv_daily) AS d\n",
    "ON d.id_cd = a.itemdeliveryid\n",
    "WHERE delivery_type IN ('АПВЗ Brand - 4.4%', 'АПВЗ Brand - 3.5%', 'СПВЗ', 'Домашний ПВЗ')\n",
    "AND FactDate < '2023-05-25' AND FactDate > '2023-03-25'\n",
    "GROUP BY 1,2\n",
    "\"\"\"\n",
    "\n",
    "data = vert.read(q)\n",
    "data['gmv'] = data['gmv'].astype(float)"
   ]
  },
  {
   "cell_type": "code",
   "execution_count": 69,
   "id": "773ac3dc-7066-4c8d-9022-0ee0945828b1",
   "metadata": {
    "tags": []
   },
   "outputs": [],
   "source": [
    "data['period'] = data['FactDate'].apply(lambda x: 'prehistorical' if x<pd.Timestamp('25-Apr-2023') else 'historical')"
   ]
  },
  {
   "cell_type": "code",
   "execution_count": 70,
   "id": "3a4a6570-b2d7-4eea-8e43-a8c40fefe461",
   "metadata": {
    "tags": []
   },
   "outputs": [],
   "source": [
    "data = data.groupby(['id_cd', 'period'], as_index=False).agg({\"gmv\":'sum'}).rename(columns={'gmv':'monthly_gmv'})"
   ]
  },
  {
   "cell_type": "code",
   "execution_count": 71,
   "id": "4aff6ffa-83e5-47dc-821c-6a540041982b",
   "metadata": {
    "tags": []
   },
   "outputs": [],
   "source": [
    "pivoted = data.pivot(index='id_cd', values='monthly_gmv', columns='period').dropna().reset_index()"
   ]
  },
  {
   "cell_type": "code",
   "execution_count": 72,
   "id": "4e5e48dd-f2af-4748-82e4-c038e2f126d1",
   "metadata": {
    "tags": []
   },
   "outputs": [
    {
     "data": {
      "text/plain": [
       "0.9704053999250989"
      ]
     },
     "execution_count": 72,
     "metadata": {},
     "output_type": "execute_result"
    }
   ],
   "source": [
    "# считаем θ:\n",
    "x = pivoted['historical']\n",
    "y = pivoted['prehistorical']\n",
    "covariance = np.cov(x, y)[0, 1]\n",
    "variance = x.var()\n",
    "theta = covariance / variance\n",
    "\n",
    "theta"
   ]
  },
  {
   "cell_type": "code",
   "execution_count": 73,
   "id": "50e17310-a401-43ec-8868-54660eee1f4e",
   "metadata": {
    "tags": []
   },
   "outputs": [],
   "source": [
    "# получаем историческую cuped-метрику:\n",
    "\n",
    "pivoted['cuped_historical'] = pivoted['historical'] - theta*(pivoted['prehistorical']-pivoted['prehistorical'].mean())"
   ]
  },
  {
   "cell_type": "code",
   "execution_count": 74,
   "id": "e6951da5-e825-4ef2-b992-f68786059fa2",
   "metadata": {
    "tags": []
   },
   "outputs": [
    {
     "name": "stdout",
     "output_type": "stream",
     "text": [
      "Среднее исходной метрики: 2777326\n",
      "Среднее CUPED метрики: 2777326\n"
     ]
    }
   ],
   "source": [
    "# проверяем средние исходной и CUPED метрики:\n",
    "print(f\"Среднее исходной метрики: {pivoted['historical'].mean():.0f}\")\n",
    "print(f\"Среднее CUPED метрики: {pivoted['cuped_historical'].mean():.0f}\")"
   ]
  },
  {
   "cell_type": "code",
   "execution_count": 75,
   "id": "792bc311-2fd8-4490-836e-c8a9aee62a7b",
   "metadata": {
    "tags": []
   },
   "outputs": [
    {
     "name": "stdout",
     "output_type": "stream",
     "text": [
      "Дисперсия исходной метрики: 2784574\n",
      "Дисперсия CUPED метрики: 799902\n",
      "\n",
      "Разница в 3.48 раза\n"
     ]
    }
   ],
   "source": [
    "# проверяем дисперсию исходной и CUPED метрики:\n",
    "print(f\"Дисперсия исходной метрики: {pivoted['historical'].std():.0f}\")\n",
    "print(f\"Дисперсия CUPED метрики: {pivoted['cuped_historical'].std():.0f}\")\n",
    "\n",
    "print(f\"\\nРазница в {pivoted['historical'].std()/pivoted['cuped_historical'].std():.2f} раза\")"
   ]
  },
  {
   "cell_type": "markdown",
   "id": "b94540cf-616f-4707-92a6-38aef269640a",
   "metadata": {},
   "source": [
    "## Cчитаем min_sample_size:"
   ]
  },
  {
   "cell_type": "code",
   "execution_count": 76,
   "id": "7ac19310-b3d1-4e1c-9130-65f0b61fa3eb",
   "metadata": {
    "tags": []
   },
   "outputs": [],
   "source": [
    "import numpy as np\n",
    "from scipy.stats import norm\n",
    "\n",
    "def get_sample_size_abs(epsilon, std, alpha=0.05, beta=0.2):\n",
    "    t_alpha = norm.ppf(1 - alpha / 2, loc=0, scale=1)\n",
    "    t_beta = norm.ppf(1 - beta, loc=0, scale=1)\n",
    "    z_scores_sum_squared = (t_alpha + t_beta) ** 2\n",
    "    sample_size = int(np.ceil(\n",
    "        z_scores_sum_squared * (2 * std ** 2) / (epsilon ** 2)\n",
    "    ))\n",
    "    return sample_size"
   ]
  },
  {
   "cell_type": "code",
   "execution_count": 77,
   "id": "c02104f3-6bbf-4842-b697-a45eb4720293",
   "metadata": {
    "tags": []
   },
   "outputs": [
    {
     "name": "stdout",
     "output_type": "stream",
     "text": [
      "Минимальный размер выборки: 3256\n"
     ]
    }
   ],
   "source": [
    "epsilon = pivoted['cuped_historical'].mean()*0.02 # mde\n",
    "std = pivoted['cuped_historical'].std()  \n",
    "\n",
    "min_sample_size = get_sample_size_abs(epsilon, std)\n",
    "print(f\"Минимальный размер выборки: {min_sample_size}\")"
   ]
  },
  {
   "cell_type": "markdown",
   "id": "5f66db41-910d-459e-9f8a-32cc21c5b07a",
   "metadata": {},
   "source": [
    "## Проводим синтетические АА и АБ тесты:"
   ]
  },
  {
   "cell_type": "code",
   "execution_count": 78,
   "id": "149f149b-b31f-466d-875b-87daa79a6742",
   "metadata": {
    "tags": []
   },
   "outputs": [],
   "source": [
    "# ф-ция построения гистограмм:\n",
    "\n",
    "def plot_pvalue_ecdf(pvalues, title=None):\n",
    "    fig, (ax1, ax2) = plt.subplots(1, 2, figsize=(12, 4))\n",
    "\n",
    "    if title:\n",
    "        plt.suptitle(title)\n",
    "\n",
    "    sns.histplot(pvalues, ax=ax1, bins=20, stat='density')\n",
    "    ax1.plot([0,1],[1,1], 'k--')\n",
    "    ax1.set(xlabel='p-value', ylabel='Density')\n",
    "\n",
    "    sns.ecdfplot(pvalues, ax=ax2)\n",
    "    ax2.plot([0,1],[0,1], 'k--')\n",
    "    ax2.set(xlabel='p-value', ylabel='Probability')\n",
    "    ax2.grid()"
   ]
  },
  {
   "cell_type": "markdown",
   "id": "7a44fc8f-4f31-43f3-a3d5-5bf28d16b504",
   "metadata": {},
   "source": [
    "#### АА-тесты:"
   ]
  },
  {
   "cell_type": "code",
   "execution_count": 79,
   "id": "d9f5c648-0474-41f5-9e08-19a1630ea4e0",
   "metadata": {
    "tags": []
   },
   "outputs": [
    {
     "data": {
      "image/png": "[encoded data removed]",
      "text/plain": [
       "<Figure size 1200x400 with 2 Axes>"
      ]
     },
     "metadata": {},
     "output_type": "display_data"
    }
   ],
   "source": [
    "p_values = []\n",
    "\n",
    "# Генерация данных и проведение t-теста\n",
    "for _ in range(1000):\n",
    "    \n",
    "    sampled_data = pivoted.sample(2*min_sample_size)\n",
    "    sampled_data['group'] = [choice(['test', 'control']) for i in range(len(sampled_data))]\n",
    "    test = sampled_data[sampled_data['group']=='test']['cuped_historical']\n",
    "    control = sampled_data[sampled_data['group']=='control']['cuped_historical']\n",
    "    _, p_val = stats.ttest_ind(test, control, equal_var=False)\n",
    "    p_values.append(p_val)\n",
    "    \n",
    "plot_pvalue_ecdf(p_values)"
   ]
  },
  {
   "cell_type": "code",
   "execution_count": 80,
   "id": "4d86f7b4-1a3b-4cdc-a9ef-4a52af5b8a23",
   "metadata": {
    "tags": []
   },
   "outputs": [
    {
     "name": "stdout",
     "output_type": "stream",
     "text": [
      "Вероятность ошибки первого рода: 0.04\n"
     ]
    }
   ],
   "source": [
    "alpha = (pd.Series(p_values)<0.05).mean()\n",
    "print(f'Вероятность ошибки первого рода: {alpha:.2f}') # должно быть <0.05"
   ]
  },
  {
   "cell_type": "markdown",
   "id": "349ab993-8642-4b6a-8c30-a7df2e06bc15",
   "metadata": {
    "tags": []
   },
   "source": [
    "#### АВ-тесты:"
   ]
  },
  {
   "cell_type": "code",
   "execution_count": 96,
   "id": "a3707ec6-9dc5-4b99-a468-9c043da9c4f0",
   "metadata": {
    "tags": []
   },
   "outputs": [
    {
     "data": {
      "image/png": "[encoded data removed]",
      "text/plain": [
       "<Figure size 1200x400 with 2 Axes>"
      ]
     },
     "metadata": {},
     "output_type": "display_data"
    }
   ],
   "source": [
    "mde = pivoted['cuped_historical'].mean()*0.02\n",
    "\n",
    "for _ in range(1000):\n",
    "\n",
    "    sampled_data = pivoted.sample(2*min_sample_size)\n",
    "    sampled_data['group'] = [choice(['test', 'control']) for i in range(len(sampled_data))]\n",
    "    test = sampled_data[sampled_data['group']=='test']['cuped_historical']\n",
    "    control = sampled_data[sampled_data['group']=='control']['cuped_historical'] + mde\n",
    "    _, p_val = stats.ttest_ind(test, control, equal_var=False)\n",
    "    p_values.append(p_val)\n",
    "    \n",
    "plot_pvalue_ecdf(p_values)"
   ]
  },
  {
   "cell_type": "code",
   "execution_count": 97,
   "id": "09da543b-9d7c-429d-8d9f-1177f4aedea3",
   "metadata": {
    "tags": []
   },
   "outputs": [],
   "source": [
    "# кривая на правом графике должна проходить примерно через x=0.2, y=0.8 тогда норм "
   ]
  },
  {
   "cell_type": "code",
   "execution_count": 98,
   "id": "fdf804d4-6a72-48a1-ada4-e53003f832da",
   "metadata": {
    "tags": []
   },
   "outputs": [
    {
     "name": "stdout",
     "output_type": "stream",
     "text": [
      "Вероятность ошибки второго рода: 0.18\n"
     ]
    }
   ],
   "source": [
    "beta = (pd.Series(p_values)>0.2).mean()\n",
    "print(f'Вероятность ошибки второго рода: {beta:.2f}') # должно быть <0.2"
   ]
  },
  {
   "cell_type": "code",
   "execution_count": null,
   "id": "e80e3a5b-c6df-4516-b317-fbc9810c22ad",
   "metadata": {},
   "outputs": [],
   "source": []
  }
 ],
 "metadata": {
  "kernelspec": {
   "display_name": "Python 3 (ipykernel)",
   "language": "python",
   "name": "python3"
  },
  "language_info": {
   "codemirror_mode": {
    "name": "ipython",
    "version": 3
   },
   "file_extension": ".py",
   "mimetype": "text/x-python",
   "name": "python",
   "nbconvert_exporter": "python",
   "pygments_lexer": "ipython3",
   "version": "3.8.19"
  }
 },
 "nbformat": 4,
 "nbformat_minor": 5
}
